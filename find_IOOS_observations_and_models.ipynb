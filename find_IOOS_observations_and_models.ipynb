{
 "cells": [
  {
   "cell_type": "markdown",
   "metadata": {},
   "source": [
    "# The Boston Light Swim temperature analysis with Python\n",
    "\n",
    "In the past we demonstrated how to perform a CSW catalog search with [`OWSLib`](https://ioos.github.io/notebooks_demos//notebooks/2016-12-19-exploring_csw),\n",
    "and how to obtain near real-time data with [`pyoos`](https://ioos.github.io/notebooks_demos//notebooks/2016-10-12-fetching_data).\n",
    "In this notebook we will use both to find all observations and model data around the Boston Harbor to access the sea water temperature.\n",
    "\n",
    "\n",
    "This workflow is part of an example to advise swimmers of the annual [Boston lighthouse swim](http://bostonlightswim.org/) of the Boston Harbor water temperature conditions prior to the race. For more information regarding the workflow presented here see [Signell, Richard P.; Fernandes, Filipe; Wilcox, Kyle.   2016. \"Dynamic Reusable Workflows for Ocean Science.\" *J. Mar. Sci. Eng.* 4, no. 4: 68](http://dx.doi.org/10.3390/jmse4040068)."
   ]
  },
  {
   "cell_type": "code",
   "execution_count": 1,
   "metadata": {},
   "outputs": [],
   "source": [
    "import warnings\n",
    "\n",
    "# Suppresing warnings for a \"pretty output.\"\n",
    "warnings.simplefilter('ignore')"
   ]
  },
  {
   "cell_type": "markdown",
   "metadata": {},
   "source": [
    "This notebook is quite big and complex,\n",
    "so to help us keep things organized we'll define a cell with the most important options and switches.\n",
    "\n",
    "Below we can define the date,\n",
    "bounding box, phenomena `SOS` and `CF` names and units,\n",
    "and the catalogs we will search."
   ]
  },
  {
   "cell_type": "code",
   "execution_count": 2,
   "metadata": {},
   "outputs": [
    {
     "name": "stdout",
     "output_type": "stream",
     "text": [
      "Overwriting config.yaml\n"
     ]
    }
   ],
   "source": [
    "%%writefile config.yaml\n",
    "\n",
    "# Specify a YYYY-MM-DD hh:mm:ss date or integer day offset.\n",
    "# If both start and stop are offsets they will be computed relative to datetime.today() at midnight.\n",
    "# Use the dates commented below to reproduce the last Boston Light Swim event forecast.\n",
    "date:\n",
    "    start: -5 # 2016-8-16 00:00:00\n",
    "    stop: +4 # 2016-8-29 00:00:00\n",
    "\n",
    "run_name: 'latest'\n",
    "\n",
    "# Boston harbor.\n",
    "region:\n",
    "    bbox: [-71.3, 42.03, -70.57, 42.63]\n",
    "    # Try the bounding box below to see how the notebook will behave for a different region.\n",
    "    #bbox: [-74.5, 40, -72., 41.5]\n",
    "    crs: 'urn:ogc:def:crs:OGC:1.3:CRS84'\n",
    "\n",
    "sos_name: 'sea_water_temperature'\n",
    "\n",
    "cf_names:\n",
    "    - sea_water_temperature\n",
    "    - sea_surface_temperature\n",
    "    - sea_water_potential_temperature\n",
    "    - equivalent_potential_temperature\n",
    "    - sea_water_conservative_temperature\n",
    "    - pseudo_equivalent_potential_temperature\n",
    "\n",
    "units: 'celsius'\n",
    "\n",
    "catalogs:\n",
    "    - https://data.ioos.us/csw"
   ]
  },
  {
   "cell_type": "markdown",
   "metadata": {},
   "source": [
    "We'll print some of the search configuration options along the way to keep track of them."
   ]
  },
  {
   "cell_type": "code",
   "execution_count": 3,
   "metadata": {},
   "outputs": [
    {
     "name": "stdout",
     "output_type": "stream",
     "text": [
      "********Saving data inside directory /home/jovyan/latest********\n",
      "*********************** Run information ************************\n",
      "Run date: 2019-08-15 13:35:49\n",
      "Start: 2019-08-10 00:00:00\n",
      "Stop: 2019-08-19 00:00:00\n",
      "Bounding box: -71.30, 42.03,-70.57, 42.63\n"
     ]
    }
   ],
   "source": [
    "import os\n",
    "import shutil\n",
    "from datetime import datetime\n",
    "from ioos_tools.ioos import parse_config\n",
    "\n",
    "config = parse_config('config.yaml')\n",
    "\n",
    "# Saves downloaded data into a temporary directory.\n",
    "save_dir = os.path.abspath(config['run_name'])\n",
    "if os.path.exists(save_dir):\n",
    "    shutil.rmtree(save_dir)\n",
    "os.makedirs(save_dir)\n",
    "\n",
    "fmt = '{:*^64}'.format\n",
    "print(fmt('Saving data inside directory {}'.format(save_dir)))\n",
    "print(fmt(' Run information '))\n",
    "print('Run date: {:%Y-%m-%d %H:%M:%S}'.format(datetime.utcnow()))\n",
    "print('Start: {:%Y-%m-%d %H:%M:%S}'.format(config['date']['start']))\n",
    "print('Stop: {:%Y-%m-%d %H:%M:%S}'.format(config['date']['stop']))\n",
    "print('Bounding box: {0:3.2f}, {1:3.2f},'\n",
    "      '{2:3.2f}, {3:3.2f}'.format(*config['region']['bbox']))"
   ]
  },
  {
   "cell_type": "markdown",
   "metadata": {},
   "source": [
    "We already created an `OWSLib.fes` filter [before](https://ioos.github.io/notebooks_demos//notebooks/2016-12-19-exploring_csw).\n",
    "The main difference here is that we do not want the atmosphere model data,\n",
    "so we are filtering out all the `GRIB-2` data format."
   ]
  },
  {
   "cell_type": "code",
   "execution_count": 4,
   "metadata": {},
   "outputs": [],
   "source": [
    "def make_filter(config):\n",
    "    from owslib import fes\n",
    "    from ioos_tools.ioos import fes_date_filter\n",
    "    kw = dict(wildCard='*', escapeChar='\\\\',\n",
    "              singleChar='?', propertyname='apiso:AnyText')\n",
    "\n",
    "    or_filt = fes.Or([fes.PropertyIsLike(literal=('*%s*' % val), **kw)\n",
    "                      for val in config['cf_names']])\n",
    "\n",
    "    not_filt = fes.Not([fes.PropertyIsLike(literal='GRIB-2', **kw)])\n",
    "\n",
    "    begin, end = fes_date_filter(config['date']['start'],\n",
    "                                 config['date']['stop'])\n",
    "    bbox_crs = fes.BBox(config['region']['bbox'],\n",
    "                        crs=config['region']['crs'])\n",
    "    filter_list = [fes.And([bbox_crs, begin, end, or_filt, not_filt])]\n",
    "    return filter_list\n",
    "\n",
    "\n",
    "filter_list = make_filter(config)"
   ]
  },
  {
   "cell_type": "markdown",
   "metadata": {},
   "source": [
    "In the cell below we ask the catalog for all the returns that match the filter and have an OPeNDAP endpoint."
   ]
  },
  {
   "cell_type": "code",
   "execution_count": 5,
   "metadata": {
    "code_folding": [],
    "scrolled": false
   },
   "outputs": [
    {
     "name": "stdout",
     "output_type": "stream",
     "text": [
      "********************* Catalog information **********************\n",
      "URL: https://data.ioos.us/csw\n",
      "Number of datasets available: 30\n",
      "NECOFS Massachusetts (FVCOM) - Massachusetts Coastal - Latest Forecast\n",
      "NERACOOS Gulf of Maine Ocean Array: Realtime Buoy Observations: A01 Massachusetts Bay: A01 ACCELEROMETER Massachusetts Bay\n",
      "NERACOOS Gulf of Maine Ocean Array: Realtime Buoy Observations: A01 Massachusetts Bay: A01 CTD1m Massachusetts Bay\n",
      "NERACOOS Gulf of Maine Ocean Array: Realtime Buoy Observations: A01 Massachusetts Bay: A01 CTD20m Massachusetts Bay\n",
      "NERACOOS Gulf of Maine Ocean Array: Realtime Buoy Observations: A01 Massachusetts Bay: A01 MET Massachusetts Bay\n",
      "NERACOOS Gulf of Maine Ocean Array: Realtime Buoy Observations: A01 Massachusetts Bay: A01 OPTODE51m Massachusetts Bay\n",
      "NOAA Coral Reef Watch Operational Daily Near-Real-Time Global 5-km Satellite Coral Bleaching Monitoring Products\n",
      "ROMS doppio Real-Time Operational PSAS Forecast System Version 1 FMRC Averages\n",
      "ROMS doppio Real-Time Operational PSAS Forecast System Version 1 FMRC History\n",
      "UNH Appledore Island CO2\n",
      "A01 Accelerometer - Waves\n",
      "A01 Directional Waves\n",
      "A01 Met - Meteorology\n",
      "A01 Optode - Oxygen\n",
      "A01 SBE16 Oxygen\n",
      "A01 Sbe37 - CTD\n",
      "BOSTON 16 NM East of Boston, MA\n",
      "Buoy A01 - Massachusetts Bay\n",
      "COAWST Modeling System: USEast: ROMS-WRF-SWAN coupled model (aka CNAPS)\n",
      "Department of Physical Oceanography, School of Marine Sciences, University of Maine A01 Accelerometer Buoy Sensor\n",
      "Department of Physical Oceanography, School of Marine Sciences, University of Maine A01 Met Buoy Sensor\n",
      "Department of Physical Oceanography, School of Marine Sciences, University of Maine A01 Optode 51m Buoy Sensor\n",
      "Department of Physical Oceanography, School of Marine Sciences, University of Maine A01 Sbe37 1m Buoy Sensor\n",
      "Department of Physical Oceanography, School of Marine Sciences, University of Maine A01 Sbe37 20m Buoy Sensor\n",
      "Directional wave and sea surface temperature measurements collected in situ by Datawell DWR-M3 directional buoy located near GRAYS HARBOR, WA from 2018/06/28 19:03:45 to 2019/08/14 18:00:25.\n",
      "Directional wave and sea surface temperature measurements collected in situ by Datawell DWR-M3 directional buoy located near KAUMALAPAU SOUTHWEST, LANAI, HI from 2018/10/02 16:03:45 to 2019/08/14 18:00:25.\n",
      "G1SST, 1km blended SST\n",
      "Global SST & Sea Ice Analysis, L4 OSTIA, 0.05 deg daily (METOFFICE-GLO-SST-L4-NRT-OBS-SST-V2)\n",
      "Latest CDIP real-time buoy observations, 3-day aggregate\n",
      "NDBC Standard Meteorological Buoy Data, 1970-present\n",
      "***************************** DAP ******************************\n",
      "http://oos.soest.hawaii.edu/thredds/dodsC/hioos/satellite/dhw_5km.html\n",
      "http://tds.marine.rutgers.edu/thredds/dodsC/roms/doppio/2017_da/avg/Averages_Best.html\n",
      "http://tds.marine.rutgers.edu/thredds/dodsC/roms/doppio/2017_da/his/History_Best.html\n",
      "http://thredds.aoos.org/thredds/dodsC/AOOS_OSTIA.nc.html\n",
      "http://thredds.aoos.org/thredds/dodsC/G1_SST_GLOBAL.nc.html\n",
      "http://thredds.cdip.ucsd.edu/thredds/dodsC/cdip/realtime/036p1_rt.nc.html\n",
      "http://thredds.cdip.ucsd.edu/thredds/dodsC/cdip/realtime/239p1_rt.nc.html\n",
      "http://thredds.cdip.ucsd.edu/thredds/dodsC/cdip/realtime/latest_gudb_3day.nc.html\n",
      "http://www.neracoos.org/thredds/dodsC/UMO/DSG/SOS/A01/Accelerometer/HistoricRealtime.html\n",
      "http://www.neracoos.org/thredds/dodsC/UMO/DSG/SOS/A01/CTD1m/HistoricRealtime.html\n",
      "http://www.neracoos.org/thredds/dodsC/UMO/DSG/SOS/A01/CTD20m/HistoricRealtime.html\n",
      "http://www.neracoos.org/thredds/dodsC/UMO/DSG/SOS/A01/Met/HistoricRealtime.html\n",
      "http://www.neracoos.org/thredds/dodsC/UMO/DSG/SOS/A01/OPTODE51m/HistoricRealtime.html\n",
      "http://www.neracoos.org/thredds/dodsC/UMO/Realtime/SOS/A01/DSG_A0141.accelerometer.realtime.nc.html\n",
      "http://www.neracoos.org/thredds/dodsC/UMO/Realtime/SOS/A01/DSG_A0141.met.realtime.nc.html\n",
      "http://www.neracoos.org/thredds/dodsC/UMO/Realtime/SOS/A01/DSG_A0141.optode.realtime.51m.nc.html\n",
      "http://www.neracoos.org/thredds/dodsC/UMO/Realtime/SOS/A01/DSG_A0141.sbe37.realtime.1m.nc.html\n",
      "http://www.neracoos.org/thredds/dodsC/UMO/Realtime/SOS/A01/DSG_A0141.sbe37.realtime.20m.nc.html\n",
      "http://www.smast.umassd.edu:8080/thredds/dodsC/FVCOM/NECOFS/Forecasts/NECOFS_FVCOM_OCEAN_MASSBAY_FORECAST.nc.html\n",
      "\n",
      "\n"
     ]
    }
   ],
   "source": [
    "from ioos_tools.ioos import service_urls, get_csw_records\n",
    "from owslib.csw import CatalogueServiceWeb\n",
    "\n",
    "\n",
    "dap_urls = []\n",
    "print(fmt(' Catalog information '))\n",
    "for endpoint in config['catalogs']:\n",
    "    print('URL: {}'.format(endpoint))\n",
    "    try:\n",
    "        csw = CatalogueServiceWeb(endpoint, timeout=120)\n",
    "    except Exception as e:\n",
    "        print('{}'.format(e))\n",
    "        continue\n",
    "    csw = get_csw_records(csw, filter_list, esn='full')\n",
    "    OPeNDAP = service_urls(csw.records, identifier='OPeNDAP:OPeNDAP')\n",
    "    odp = service_urls(csw.records, identifier='urn:x-esri:specification:ServiceType:odp:url')\n",
    "    dap = OPeNDAP + odp\n",
    "    dap_urls.extend(dap)\n",
    "\n",
    "    print('Number of datasets available: {}'.format(len(csw.records.keys())))\n",
    "\n",
    "    for rec, item in csw.records.items():\n",
    "        print('{}'.format(item.title))\n",
    "    if dap:\n",
    "        print(fmt(' DAP '))\n",
    "        for url in dap:\n",
    "            print('{}.html'.format(url))\n",
    "    print('\\n')\n",
    "\n",
    "# Get only unique endpoints.\n",
    "dap_urls = list(set(dap_urls))"
   ]
  },
  {
   "cell_type": "markdown",
   "metadata": {},
   "source": [
    "We found some models, and observations from NERACOOS there.\n",
    "However, we do know that there are some buoys from NDBC and CO-OPS available too.\n",
    "Also, those NERACOOS observations seem to be from a [CTD](http://www.neracoos.org/thredds/dodsC/UMO/DSG/SOS/A01/CTD1m/HistoricRealtime/Agg.ncml.html) mounted at 65 meters below the sea surface. Rendering them useless from our purpose.\n",
    "\n",
    "So let's use the catalog only for the models by filtering the observations with `is_station` below.\n",
    "And we'll rely `CO-OPS` and `NDBC` services for the observations."
   ]
  },
  {
   "cell_type": "code",
   "execution_count": 6,
   "metadata": {},
   "outputs": [
    {
     "name": "stdout",
     "output_type": "stream",
     "text": [
      "************************* Filtered DAP *************************\n",
      "http://tds.marine.rutgers.edu/thredds/dodsC/roms/doppio/2017_da/his/History_Best#fillmismatch.html\n",
      "http://oos.soest.hawaii.edu/thredds/dodsC/hioos/satellite/dhw_5km#fillmismatch.html\n",
      "http://www.neracoos.org/thredds/dodsC/UMO/Realtime/SOS/A01/DSG_A0141.optode.realtime.51m.nc#fillmismatch.html\n",
      "http://thredds.aoos.org/thredds/dodsC/G1_SST_GLOBAL.nc#fillmismatch.html\n",
      "http://www.neracoos.org/thredds/dodsC/UMO/Realtime/SOS/A01/DSG_A0141.met.realtime.nc#fillmismatch.html\n",
      "http://thredds.aoos.org/thredds/dodsC/AOOS_OSTIA.nc#fillmismatch.html\n",
      "http://www.smast.umassd.edu:8080/thredds/dodsC/FVCOM/NECOFS/Forecasts/NECOFS_FVCOM_OCEAN_MASSBAY_FORECAST.nc#fillmismatch.html\n",
      "http://www.neracoos.org/thredds/dodsC/UMO/Realtime/SOS/A01/DSG_A0141.sbe37.realtime.1m.nc#fillmismatch.html\n",
      "http://www.neracoos.org/thredds/dodsC/UMO/Realtime/SOS/A01/DSG_A0141.accelerometer.realtime.nc#fillmismatch.html\n",
      "http://tds.marine.rutgers.edu/thredds/dodsC/roms/doppio/2017_da/avg/Averages_Best#fillmismatch.html\n",
      "http://www.neracoos.org/thredds/dodsC/UMO/Realtime/SOS/A01/DSG_A0141.sbe37.realtime.20m.nc#fillmismatch.html\n"
     ]
    }
   ],
   "source": [
    "from timeout_decorator import TimeoutError\n",
    "from ioos_tools.ioos import is_station\n",
    "\n",
    "# Filter out some station endpoints.\n",
    "non_stations = []\n",
    "for url in dap_urls:\n",
    "    url = f'{url}#fillmismatch'\n",
    "    try:\n",
    "        if not is_station(url):\n",
    "            non_stations.append(url)\n",
    "    except (IOError, OSError, RuntimeError, TimeoutError) as e:\n",
    "        print('Could not access URL {}.html\\n{!r}'.format(url, e))\n",
    "\n",
    "dap_urls = non_stations\n",
    "\n",
    "print(fmt(' Filtered DAP '))\n",
    "for url in dap_urls:\n",
    "    print('{}.html'.format(url))"
   ]
  },
  {
   "cell_type": "markdown",
   "metadata": {},
   "source": [
    "Now we can use `pyoos` collectors for `NdbcSos`,"
   ]
  },
  {
   "cell_type": "code",
   "execution_count": 7,
   "metadata": {},
   "outputs": [
    {
     "name": "stdout",
     "output_type": "stream",
     "text": [
      "******************* NDBC Collector offerings *******************\n",
      "National Data Buoy Center SOS: 1068 offerings\n"
     ]
    }
   ],
   "source": [
    "from pyoos.collectors.ndbc.ndbc_sos import NdbcSos\n",
    "\n",
    "collector_ndbc = NdbcSos()\n",
    "\n",
    "collector_ndbc.set_bbox(config['region']['bbox'])\n",
    "collector_ndbc.end_time = config['date']['stop']\n",
    "collector_ndbc.start_time = config['date']['start']\n",
    "collector_ndbc.variables = [config['sos_name']]\n",
    "\n",
    "ofrs = collector_ndbc.server.offerings\n",
    "title = collector_ndbc.server.identification.title\n",
    "print(fmt(' NDBC Collector offerings '))\n",
    "print('{}: {} offerings'.format(title, len(ofrs)))"
   ]
  },
  {
   "cell_type": "code",
   "execution_count": 8,
   "metadata": {},
   "outputs": [
    {
     "data": {
      "text/html": [
       "<div>\n",
       "<style scoped>\n",
       "    .dataframe tbody tr th:only-of-type {\n",
       "        vertical-align: middle;\n",
       "    }\n",
       "\n",
       "    .dataframe tbody tr th {\n",
       "        vertical-align: top;\n",
       "    }\n",
       "\n",
       "    .dataframe thead th {\n",
       "        text-align: right;\n",
       "    }\n",
       "</style>\n",
       "<table border=\"1\" class=\"dataframe\">\n",
       "  <thead>\n",
       "    <tr style=\"text-align: right;\">\n",
       "      <th></th>\n",
       "      <th>station_name</th>\n",
       "      <th>sensor</th>\n",
       "      <th>lon</th>\n",
       "      <th>lat</th>\n",
       "      <th>depth</th>\n",
       "    </tr>\n",
       "    <tr>\n",
       "      <th>station_code</th>\n",
       "      <th></th>\n",
       "      <th></th>\n",
       "      <th></th>\n",
       "      <th></th>\n",
       "      <th></th>\n",
       "    </tr>\n",
       "  </thead>\n",
       "  <tbody>\n",
       "    <tr>\n",
       "      <th>44013</th>\n",
       "      <td>BOSTON 16 NM East of Boston, MA</td>\n",
       "      <td>urn:ioos:sensor:wmo:44013::watertemp1</td>\n",
       "      <td>-70.651</td>\n",
       "      <td>42.346</td>\n",
       "      <td>0.6</td>\n",
       "    </tr>\n",
       "  </tbody>\n",
       "</table>\n",
       "</div>"
      ],
      "text/plain": [
       "                                 station_name  \\\n",
       "station_code                                    \n",
       "44013         BOSTON 16 NM East of Boston, MA   \n",
       "\n",
       "                                             sensor     lon     lat  depth  \n",
       "station_code                                                                \n",
       "44013         urn:ioos:sensor:wmo:44013::watertemp1 -70.651  42.346    0.6  "
      ]
     },
     "execution_count": 8,
     "metadata": {},
     "output_type": "execute_result"
    }
   ],
   "source": [
    "import pandas as pd\n",
    "from ioos_tools.ioos import collector2table\n",
    "\n",
    "ndbc = collector2table(collector=collector_ndbc,\n",
    "                       config=config,\n",
    "                       col='sea_water_temperature (C)')\n",
    "\n",
    "if ndbc:\n",
    "    data = dict(\n",
    "        station_name=[s._metadata.get('station_name') for s in ndbc],\n",
    "        station_code=[s._metadata.get('station_code') for s in ndbc],\n",
    "        sensor=[s._metadata.get('sensor') for s in ndbc],\n",
    "        lon=[s._metadata.get('lon') for s in ndbc],\n",
    "        lat=[s._metadata.get('lat') for s in ndbc],\n",
    "        depth=[s._metadata.get('depth') for s in ndbc],\n",
    "    )\n",
    "\n",
    "table = pd.DataFrame(data).set_index('station_code')\n",
    "table"
   ]
  },
  {
   "cell_type": "markdown",
   "metadata": {},
   "source": [
    "and `CoopsSos`."
   ]
  },
  {
   "cell_type": "code",
   "execution_count": 9,
   "metadata": {},
   "outputs": [
    {
     "name": "stdout",
     "output_type": "stream",
     "text": [
      "********************* Collector offerings **********************\n",
      "NOAA.NOS.CO-OPS SOS: 1227 offerings\n"
     ]
    }
   ],
   "source": [
    "from pyoos.collectors.coops.coops_sos import CoopsSos\n",
    "\n",
    "collector_coops = CoopsSos()\n",
    "\n",
    "collector_coops.set_bbox(config['region']['bbox'])\n",
    "collector_coops.end_time = config['date']['stop']\n",
    "collector_coops.start_time = config['date']['start']\n",
    "collector_coops.variables = [config['sos_name']]\n",
    "\n",
    "ofrs = collector_coops.server.offerings\n",
    "title = collector_coops.server.identification.title\n",
    "print(fmt(' Collector offerings '))\n",
    "print('{}: {} offerings'.format(title, len(ofrs)))"
   ]
  },
  {
   "cell_type": "code",
   "execution_count": 10,
   "metadata": {
    "scrolled": true
   },
   "outputs": [
    {
     "data": {
      "text/html": [
       "<div>\n",
       "<style scoped>\n",
       "    .dataframe tbody tr th:only-of-type {\n",
       "        vertical-align: middle;\n",
       "    }\n",
       "\n",
       "    .dataframe tbody tr th {\n",
       "        vertical-align: top;\n",
       "    }\n",
       "\n",
       "    .dataframe thead th {\n",
       "        text-align: right;\n",
       "    }\n",
       "</style>\n",
       "<table border=\"1\" class=\"dataframe\">\n",
       "  <thead>\n",
       "    <tr style=\"text-align: right;\">\n",
       "      <th></th>\n",
       "      <th>station_name</th>\n",
       "      <th>sensor</th>\n",
       "      <th>lon</th>\n",
       "      <th>lat</th>\n",
       "      <th>depth</th>\n",
       "    </tr>\n",
       "    <tr>\n",
       "      <th>station_code</th>\n",
       "      <th></th>\n",
       "      <th></th>\n",
       "      <th></th>\n",
       "      <th></th>\n",
       "      <th></th>\n",
       "    </tr>\n",
       "  </thead>\n",
       "  <tbody>\n",
       "    <tr>\n",
       "      <th>44013</th>\n",
       "      <td>BOSTON 16 NM East of Boston, MA</td>\n",
       "      <td>urn:ioos:sensor:wmo:44013::watertemp1</td>\n",
       "      <td>-70.651</td>\n",
       "      <td>42.346</td>\n",
       "      <td>0.6</td>\n",
       "    </tr>\n",
       "  </tbody>\n",
       "</table>\n",
       "</div>"
      ],
      "text/plain": [
       "                                 station_name  \\\n",
       "station_code                                    \n",
       "44013         BOSTON 16 NM East of Boston, MA   \n",
       "\n",
       "                                             sensor     lon     lat  depth  \n",
       "station_code                                                                \n",
       "44013         urn:ioos:sensor:wmo:44013::watertemp1 -70.651  42.346    0.6  "
      ]
     },
     "execution_count": 10,
     "metadata": {},
     "output_type": "execute_result"
    }
   ],
   "source": [
    "coops = collector2table(collector=collector_coops,\n",
    "                        config=config,\n",
    "                        col='sea_water_temperature (C)')\n",
    "\n",
    "if coops:\n",
    "    data = dict(\n",
    "        station_name=[s._metadata.get('station_name') for s in coops],\n",
    "        station_code=[s._metadata.get('station_code') for s in coops],\n",
    "        sensor=[s._metadata.get('sensor') for s in coops],\n",
    "        lon=[s._metadata.get('lon') for s in coops],\n",
    "        lat=[s._metadata.get('lat') for s in coops],\n",
    "        depth=[s._metadata.get('depth') for s in coops],\n",
    "    )\n",
    "\n",
    "table = pd.DataFrame(data).set_index('station_code')\n",
    "table"
   ]
  },
  {
   "cell_type": "markdown",
   "metadata": {},
   "source": [
    "We will join all the observations into an uniform series, interpolated to 1-hour interval, for the model-data comparison.\n",
    "\n",
    "This step is necessary because the observations can be 7 or 10 minutes resolution,\n",
    "while the models can be 30 to 60 minutes."
   ]
  },
  {
   "cell_type": "code",
   "execution_count": 11,
   "metadata": {
    "scrolled": true
   },
   "outputs": [],
   "source": [
    "data = ndbc + coops\n",
    "\n",
    "index = pd.date_range(start=config['date']['start'].replace(tzinfo=None),\n",
    "                      end=config['date']['stop'].replace(tzinfo=None),\n",
    "                      freq='1H')\n",
    "\n",
    "# Preserve metadata with `reindex`.\n",
    "observations = []\n",
    "for series in data:\n",
    "    _metadata = series._metadata\n",
    "    series.index = series.index.tz_localize(None)\n",
    "    series.index = series.index.tz_localize(None)\n",
    "    obs = series.reindex(index=index, limit=1, method='nearest')\n",
    "    obs._metadata = _metadata\n",
    "    observations.append(obs)"
   ]
  },
  {
   "cell_type": "markdown",
   "metadata": {},
   "source": [
    "In this next cell we will save the data for quicker access later."
   ]
  },
  {
   "cell_type": "code",
   "execution_count": 12,
   "metadata": {
    "scrolled": false
   },
   "outputs": [],
   "source": [
    "import iris\n",
    "from ioos_tools.tardis import series2cube\n",
    "\n",
    "attr = dict(\n",
    "    featureType='timeSeries',\n",
    "    Conventions='CF-1.6',\n",
    "    standard_name_vocabulary='CF-1.6',\n",
    "    cdm_data_type='Station',\n",
    "    comment='Data from http://opendap.co-ops.nos.noaa.gov'\n",
    ")\n",
    "\n",
    "\n",
    "cubes = iris.cube.CubeList(\n",
    "    [series2cube(obs, attr=attr) for obs in observations]\n",
    ")\n",
    "\n",
    "outfile = os.path.join(save_dir, 'OBS_DATA.nc')\n",
    "iris.save(cubes, outfile)"
   ]
  },
  {
   "cell_type": "markdown",
   "metadata": {},
   "source": [
    "Taking a quick look at the observations:"
   ]
  },
  {
   "cell_type": "code",
   "execution_count": 13,
   "metadata": {},
   "outputs": [
    {
     "data": {
      "image/png": "[encoded data removed]",
      "text/plain": [
       "<Figure size 792x162 with 1 Axes>"
      ]
     },
     "metadata": {
      "needs_background": "light"
     },
     "output_type": "display_data"
    }
   ],
   "source": [
    "%matplotlib inline\n",
    "\n",
    "ax = pd.concat(data).plot(figsize=(11, 2.25))"
   ]
  },
  {
   "cell_type": "markdown",
   "metadata": {},
   "source": [
    "Now it is time to loop the models we found above,"
   ]
  },
  {
   "cell_type": "code",
   "execution_count": 14,
   "metadata": {},
   "outputs": [
    {
     "name": "stdout",
     "output_type": "stream",
     "text": [
      "**************************** Models ****************************\n",
      "\n",
      "[Reading url 1/11]: http://tds.marine.rutgers.edu/thredds/dodsC/roms/doppio/2017_da/his/History_Best#fillmismatch\n",
      "\n",
      "[Reading url 2/11]: http://oos.soest.hawaii.edu/thredds/dodsC/hioos/satellite/dhw_5km#fillmismatch\n",
      "\n",
      "[Reading url 3/11]: http://www.neracoos.org/thredds/dodsC/UMO/Realtime/SOS/A01/DSG_A0141.optode.realtime.51m.nc#fillmismatch\n",
      "[Not model data]: http://www.neracoos.org/thredds/dodsC/UMO/Realtime/SOS/A01/DSG_A0141.optode.realtime.51m.nc#fillmismatch\n",
      "\n",
      "[Reading url 4/11]: http://thredds.aoos.org/thredds/dodsC/G1_SST_GLOBAL.nc#fillmismatch\n",
      "Cannot get cube for: http://thredds.aoos.org/thredds/dodsC/G1_SST_GLOBAL.nc#fillmismatch\n",
      "Found more than one time coordinates!\n",
      "\n",
      "[Reading url 5/11]: http://www.neracoos.org/thredds/dodsC/UMO/Realtime/SOS/A01/DSG_A0141.met.realtime.nc#fillmismatch\n",
      "Cannot get cube for: http://www.neracoos.org/thredds/dodsC/UMO/Realtime/SOS/A01/DSG_A0141.met.realtime.nc#fillmismatch\n",
      "Cannot find ['sea_water_temperature', 'sea_surface_temperature', 'sea_water_potential_temperature', 'equivalent_potential_temperature', 'sea_water_conservative_temperature', 'pseudo_equivalent_potential_temperature'] in http://www.neracoos.org/thredds/dodsC/UMO/Realtime/SOS/A01/DSG_A0141.met.realtime.nc#fillmismatch.\n",
      "\n",
      "[Reading url 6/11]: http://thredds.aoos.org/thredds/dodsC/AOOS_OSTIA.nc#fillmismatch\n",
      "[Not model data]: http://thredds.aoos.org/thredds/dodsC/AOOS_OSTIA.nc#fillmismatch\n",
      "\n",
      "[Reading url 7/11]: http://www.smast.umassd.edu:8080/thredds/dodsC/FVCOM/NECOFS/Forecasts/NECOFS_FVCOM_OCEAN_MASSBAY_FORECAST.nc#fillmismatch\n",
      "\n",
      "[Reading url 8/11]: http://www.neracoos.org/thredds/dodsC/UMO/Realtime/SOS/A01/DSG_A0141.sbe37.realtime.1m.nc#fillmismatch\n",
      "[Not model data]: http://www.neracoos.org/thredds/dodsC/UMO/Realtime/SOS/A01/DSG_A0141.sbe37.realtime.1m.nc#fillmismatch\n",
      "\n",
      "[Reading url 9/11]: http://www.neracoos.org/thredds/dodsC/UMO/Realtime/SOS/A01/DSG_A0141.accelerometer.realtime.nc#fillmismatch\n",
      "Cannot get cube for: http://www.neracoos.org/thredds/dodsC/UMO/Realtime/SOS/A01/DSG_A0141.accelerometer.realtime.nc#fillmismatch\n",
      "Cannot find ['sea_water_temperature', 'sea_surface_temperature', 'sea_water_potential_temperature', 'equivalent_potential_temperature', 'sea_water_conservative_temperature', 'pseudo_equivalent_potential_temperature'] in http://www.neracoos.org/thredds/dodsC/UMO/Realtime/SOS/A01/DSG_A0141.accelerometer.realtime.nc#fillmismatch.\n",
      "\n",
      "[Reading url 10/11]: http://tds.marine.rutgers.edu/thredds/dodsC/roms/doppio/2017_da/avg/Averages_Best#fillmismatch\n",
      "\n",
      "[Reading url 11/11]: http://www.neracoos.org/thredds/dodsC/UMO/Realtime/SOS/A01/DSG_A0141.sbe37.realtime.20m.nc#fillmismatch\n",
      "[Not model data]: http://www.neracoos.org/thredds/dodsC/UMO/Realtime/SOS/A01/DSG_A0141.sbe37.realtime.20m.nc#fillmismatch\n"
     ]
    }
   ],
   "source": [
    "from iris.exceptions import (CoordinateNotFoundError, ConstraintMismatchError,\n",
    "                             MergeError)\n",
    "from ioos_tools.ioos import get_model_name\n",
    "from ioos_tools.tardis import quick_load_cubes, proc_cube, is_model, get_surface\n",
    "\n",
    "print(fmt(' Models '))\n",
    "cubes = dict()\n",
    "for k, url in enumerate(dap_urls):\n",
    "    print('\\n[Reading url {}/{}]: {}'.format(k+1, len(dap_urls), url))\n",
    "    try:\n",
    "        cube = quick_load_cubes(url, config['cf_names'],\n",
    "                                callback=None, strict=True)\n",
    "        if is_model(cube):\n",
    "            cube = proc_cube(cube,\n",
    "                             bbox=config['region']['bbox'],\n",
    "                             time=(config['date']['start'],\n",
    "                                   config['date']['stop']),\n",
    "                             units=config['units'])\n",
    "        else:\n",
    "            print('[Not model data]: {}'.format(url))\n",
    "            continue\n",
    "        cube = get_surface(cube)\n",
    "        mod_name = get_model_name(url)\n",
    "        cubes.update({mod_name: cube})\n",
    "    except (RuntimeError, ValueError,\n",
    "            ConstraintMismatchError, CoordinateNotFoundError,\n",
    "            IndexError) as e:\n",
    "        print('Cannot get cube for: {}\\n{}'.format(url, e))"
   ]
  },
  {
   "cell_type": "markdown",
   "metadata": {},
   "source": [
    "Next, we will match them with the nearest observed time-series. The `max_dist=0.08` is in degrees, that is roughly 8 kilometers."
   ]
  },
  {
   "cell_type": "code",
   "execution_count": 15,
   "metadata": {},
   "outputs": [
    {
     "name": "stdout",
     "output_type": "stream",
     "text": [
      " Downloading to file /home/jovyan/latest/roms_doppio_2017_da-History_Best#fillmismatch.nc \n",
      "[Water  ] BOSTON 16 NM East of Boston, MA\n",
      "Finished processing [roms_doppio_2017_da-History_Best#fillmismatch]\n",
      " Downloading to file /home/jovyan/latest/hioos_satellite-dhw_5km#fillmismatch.nc \n",
      "[Water  ] BOSTON 16 NM East of Boston, MA\n",
      "Finished processing [hioos_satellite-dhw_5km#fillmismatch]\n",
      " Downloading to file /home/jovyan/latest/Forecasts-NECOFS_FVCOM_OCEAN_MASSBAY_FORECAST.nc#fillmismatch.nc \n",
      "[Water  ] BOSTON 16 NM East of Boston, MA\n",
      "Finished processing [Forecasts-NECOFS_FVCOM_OCEAN_MASSBAY_FORECAST.nc#fillmismatch]\n",
      " Downloading to file /home/jovyan/latest/roms_doppio_2017_da_avg-Averages_Best#fillmismatch.nc \n",
      "[Water  ] BOSTON 16 NM East of Boston, MA\n",
      "Finished processing [roms_doppio_2017_da_avg-Averages_Best#fillmismatch]\n"
     ]
    }
   ],
   "source": [
    "import iris\n",
    "from iris.pandas import as_series\n",
    "from ioos_tools.tardis import (make_tree, get_nearest_water,\n",
    "                               add_station, ensure_timeseries, remove_ssh)\n",
    "\n",
    "for mod_name, cube in cubes.items():\n",
    "    fname = '{}.nc'.format(mod_name)\n",
    "    fname = os.path.join(save_dir, fname)\n",
    "    print(fmt(' Downloading to file {} '.format(fname)))\n",
    "    try:\n",
    "        tree, lon, lat = make_tree(cube)\n",
    "    except CoordinateNotFoundError:\n",
    "        print('Cannot make KDTree for: {}'.format(mod_name))\n",
    "        continue\n",
    "    # Get model series at observed locations.\n",
    "    raw_series = dict()\n",
    "    for obs in observations:\n",
    "        obs = obs._metadata\n",
    "        station = obs['station_code']\n",
    "        try:\n",
    "            kw = dict(k=10, max_dist=0.08, min_var=0.01)\n",
    "            args = cube, tree, obs['lon'], obs['lat']\n",
    "            try:\n",
    "                series, dist, idx = get_nearest_water(*args, **kw)\n",
    "            except RuntimeError as e:\n",
    "                print('Cannot download {!r}.\\n{}'.format(cube, e))\n",
    "                series = None\n",
    "        except ValueError:\n",
    "            status = 'No Data'\n",
    "            print('[{}] {}'.format(status, obs['station_name']))\n",
    "            continue\n",
    "        if not series:\n",
    "            status = 'Land   '\n",
    "        else:\n",
    "            raw_series.update({station: series})\n",
    "            series = as_series(series)\n",
    "            status = 'Water  '\n",
    "        print('[{}] {}'.format(status, obs['station_name']))\n",
    "    if raw_series:  # Save cube.\n",
    "        for station, cube in raw_series.items():\n",
    "            cube = add_station(cube, station)\n",
    "            cube = remove_ssh(cube)\n",
    "        try:\n",
    "            cube = iris.cube.CubeList(raw_series.values()).merge_cube()\n",
    "        except MergeError as e:\n",
    "            print(e)\n",
    "        ensure_timeseries(cube)\n",
    "        try:\n",
    "            iris.save(cube, fname)\n",
    "        except AttributeError:\n",
    "            # FIXME: we should patch the bad attribute instead of removing everything.\n",
    "            cube.attributes = {}\n",
    "            iris.save(cube, fname)\n",
    "        del cube\n",
    "    print('Finished processing [{}]'.format(mod_name))"
   ]
  },
  {
   "cell_type": "markdown",
   "metadata": {},
   "source": [
    "Now it is possible to compute some simple comparison metrics. First we'll calculate the model mean bias:\n",
    "\n",
    "$$ \\text{MB} = \\mathbf{\\overline{m}} - \\mathbf{\\overline{o}}$$"
   ]
  },
  {
   "cell_type": "code",
   "execution_count": 16,
   "metadata": {},
   "outputs": [],
   "source": [
    "from ioos_tools.ioos import stations_keys\n",
    "\n",
    "\n",
    "def rename_cols(df, config):\n",
    "    cols = stations_keys(config, key='station_name')\n",
    "    return df.rename(columns=cols)"
   ]
  },
  {
   "cell_type": "code",
   "execution_count": 17,
   "metadata": {
    "scrolled": false
   },
   "outputs": [],
   "source": [
    "from ioos_tools.ioos import load_ncs\n",
    "from ioos_tools.skill_score import mean_bias, apply_skill\n",
    "\n",
    "dfs = load_ncs(config)\n",
    "\n",
    "df = apply_skill(dfs, mean_bias, remove_mean=False, filter_tides=False)\n",
    "skill_score = dict(mean_bias=df.to_dict())\n",
    "\n",
    "# Filter out stations with no valid comparison.\n",
    "df.dropna(how='all', axis=1, inplace=True)\n",
    "df = df.applymap('{:.2f}'.format).replace('nan', '--')"
   ]
  },
  {
   "cell_type": "markdown",
   "metadata": {},
   "source": [
    "And the root mean squared rrror of the deviations from the mean:\n",
    "$$ \\text{CRMS} = \\sqrt{\\left(\\mathbf{m'} - \\mathbf{o'}\\right)^2}$$\n",
    "\n",
    "where: $\\mathbf{m'} = \\mathbf{m} - \\mathbf{\\overline{m}}$ and $\\mathbf{o'} = \\mathbf{o} - \\mathbf{\\overline{o}}$"
   ]
  },
  {
   "cell_type": "code",
   "execution_count": 18,
   "metadata": {},
   "outputs": [],
   "source": [
    "from ioos_tools.skill_score import rmse\n",
    "\n",
    "dfs = load_ncs(config)\n",
    "\n",
    "df = apply_skill(dfs, rmse, remove_mean=True, filter_tides=False)\n",
    "skill_score['rmse'] = df.to_dict()\n",
    "\n",
    "# Filter out stations with no valid comparison.\n",
    "df.dropna(how='all', axis=1, inplace=True)\n",
    "df = df.applymap('{:.2f}'.format).replace('nan', '--')"
   ]
  },
  {
   "cell_type": "markdown",
   "metadata": {},
   "source": [
    "The next 2 cells make the scores \"pretty\" for plotting."
   ]
  },
  {
   "cell_type": "code",
   "execution_count": 19,
   "metadata": {},
   "outputs": [],
   "source": [
    "import pandas as pd\n",
    "\n",
    "# Stringfy keys.\n",
    "for key in skill_score.keys():\n",
    "    skill_score[key] = {str(k): v for k, v in skill_score[key].items()}\n",
    "\n",
    "mean_bias = pd.DataFrame.from_dict(skill_score['mean_bias'])\n",
    "mean_bias = mean_bias.applymap('{:.2f}'.format).replace('nan', '--')\n",
    "\n",
    "skill_score = pd.DataFrame.from_dict(skill_score['rmse'])\n",
    "skill_score = skill_score.applymap('{:.2f}'.format).replace('nan', '--')"
   ]
  },
  {
   "cell_type": "code",
   "execution_count": 20,
   "metadata": {},
   "outputs": [],
   "source": [
    "import folium\n",
    "from ioos_tools.ioos import get_coordinates\n",
    "\n",
    "\n",
    "def make_map(bbox, **kw):\n",
    "    line = kw.pop('line', True)\n",
    "    layers = kw.pop('layers', True)\n",
    "    zoom_start = kw.pop('zoom_start', 5)\n",
    "\n",
    "    lon = (bbox[0] + bbox[2]) / 2\n",
    "    lat = (bbox[1] + bbox[3]) / 2\n",
    "    m = folium.Map(width='100%', height='100%',\n",
    "                   location=[lat, lon], zoom_start=zoom_start)\n",
    "\n",
    "    if layers:\n",
    "        url = 'http://oos.soest.hawaii.edu/thredds/wms/hioos/satellite/dhw_5km'\n",
    "        w = folium.WmsTileLayer(\n",
    "            url,\n",
    "            name='Sea Surface Temperature',\n",
    "            fmt='image/png',\n",
    "            layers='CRW_SST',\n",
    "            attr='PacIOOS TDS',\n",
    "            overlay=True,\n",
    "            transparent=True)\n",
    "        w.add_to(m)\n",
    "\n",
    "    if line:\n",
    "        p = folium.PolyLine(\n",
    "            get_coordinates(bbox),\n",
    "            color='#FF0000',\n",
    "            weight=2,\n",
    "            opacity=0.9,\n",
    "        )\n",
    "        p.add_to(m)\n",
    "    return m"
   ]
  },
  {
   "cell_type": "code",
   "execution_count": 21,
   "metadata": {},
   "outputs": [],
   "source": [
    "bbox = config['region']['bbox']\n",
    "\n",
    "m = make_map(\n",
    "    bbox,\n",
    "    zoom_start=11,\n",
    "    line=True,\n",
    "    layers=True\n",
    ")"
   ]
  },
  {
   "cell_type": "markdown",
   "metadata": {},
   "source": [
    "The cells from `[20]` to `[25]` create a [`folium`](https://github.com/python-visualization/folium) map with [`bokeh`](http://bokeh.pydata.org/en/latest/) for the time-series at the observed points.\n",
    "\n",
    "Note that we did mark the nearest model cell location used in the comparison."
   ]
  },
  {
   "cell_type": "code",
   "execution_count": 22,
   "metadata": {},
   "outputs": [],
   "source": [
    "all_obs = stations_keys(config)\n",
    "\n",
    "from glob import glob\n",
    "from operator import itemgetter\n",
    "\n",
    "import iris\n",
    "from folium.plugins import MarkerCluster\n",
    "\n",
    "iris.FUTURE.netcdf_promote = True\n",
    "\n",
    "big_list = []\n",
    "for fname in glob(os.path.join(save_dir, '*.nc')):\n",
    "    if 'OBS_DATA' in fname:\n",
    "        continue\n",
    "    cube = iris.load_cube(fname)\n",
    "    model = os.path.split(fname)[1].split('-')[-1].split('.')[0]\n",
    "    lons = cube.coord(axis='X').points\n",
    "    lats = cube.coord(axis='Y').points\n",
    "    stations = cube.coord('station_code').points\n",
    "    models = [model]*lons.size\n",
    "    lista = zip(models, lons.tolist(), lats.tolist(), stations.tolist())\n",
    "    big_list.extend(lista)\n",
    "\n",
    "big_list.sort(key=itemgetter(3))\n",
    "df = pd.DataFrame(big_list, columns=['name', 'lon', 'lat', 'station'])\n",
    "df.set_index('station', drop=True, inplace=True)\n",
    "groups = df.groupby(df.index)\n",
    "\n",
    "\n",
    "locations, popups = [], []\n",
    "for station, info in groups:\n",
    "    sta_name = all_obs[station]\n",
    "    for lat, lon, name in zip(info.lat, info.lon, info.name):\n",
    "        locations.append([lat, lon])\n",
    "        popups.append('[{}]: {}'.format(name.rstrip('fillmismatch').rstrip('#'), sta_name))\n",
    "\n",
    "MarkerCluster(locations=locations, popups=popups, name='Cluster').add_to(m);"
   ]
  },
  {
   "cell_type": "markdown",
   "metadata": {},
   "source": [
    "Here we use a dictionary with some models we expect to find so we can create a better legend for the plots. If any new models are found, we will use its filename in the legend as a default until we can go back and add a short name to our library."
   ]
  },
  {
   "cell_type": "code",
   "execution_count": 23,
   "metadata": {},
   "outputs": [],
   "source": [
    "titles = {\n",
    "    'coawst_4_use_best': 'COAWST_4',\n",
    "    'global': 'HYCOM',\n",
    "    'NECOFS_GOM3_FORECAST': 'NECOFS_GOM3',\n",
    "    'NECOFS_FVCOM_OCEAN_MASSBAY_FORECAST': 'NECOFS_MassBay',\n",
    "    'OBS_DATA': 'Observations'\n",
    "}"
   ]
  },
  {
   "cell_type": "code",
   "execution_count": 24,
   "metadata": {},
   "outputs": [],
   "source": [
    "from bokeh.resources import CDN\n",
    "from bokeh.plotting import figure\n",
    "from bokeh.embed import file_html\n",
    "from bokeh.models import HoverTool\n",
    "from itertools import cycle\n",
    "from bokeh.palettes import Category20\n",
    "\n",
    "from folium import IFrame\n",
    "\n",
    "# Plot defaults.\n",
    "colors = Category20[20]\n",
    "colorcycler = cycle(colors)\n",
    "tools = 'pan,box_zoom,reset'\n",
    "width, height = 750, 250\n",
    "\n",
    "\n",
    "def make_plot(df, station):\n",
    "    p = figure(\n",
    "        toolbar_location='above',\n",
    "        x_axis_type='datetime',\n",
    "        width=width,\n",
    "        height=height,\n",
    "        tools=tools,\n",
    "        title=str(station)\n",
    "    )\n",
    "    for column, series in df.iteritems():\n",
    "        series.dropna(inplace=True)\n",
    "        if not series.empty:\n",
    "            if 'OBS_DATA' not in column:\n",
    "                bias = mean_bias[str(station)][column]\n",
    "                skill = skill_score[str(station)][column]\n",
    "                line_color = next(colorcycler)\n",
    "                kw = dict(alpha=0.65, line_color=line_color)\n",
    "            else:\n",
    "                skill = bias = 'NA'\n",
    "                kw = dict(alpha=1, color='crimson')\n",
    "            legend = f'{titles.get(column, column)}'\n",
    "            legend = legend.rstrip('fillmismatch').rstrip('#')\n",
    "            line = p.line(\n",
    "                x=series.index,\n",
    "                y=series.values,\n",
    "                legend=legend,\n",
    "                line_width=5,\n",
    "                line_cap='round',\n",
    "                line_join='round',\n",
    "                **kw\n",
    "            )\n",
    "            p.add_tools(HoverTool(tooltips=[('Name', '{}'.format(titles.get(column, column))),\n",
    "                                            ('Bias', bias),\n",
    "                                            ('Skill', skill)],\n",
    "                                  renderers=[line]))\n",
    "    return p\n",
    "\n",
    "\n",
    "def make_marker(p, station):\n",
    "    lons = stations_keys(config, key='lon')\n",
    "    lats = stations_keys(config, key='lat')\n",
    "\n",
    "    lon, lat = lons[station], lats[station]\n",
    "    html = file_html(p, CDN, station)\n",
    "    iframe = IFrame(html, width=width+40, height=height+80)\n",
    "\n",
    "    popup = folium.Popup(iframe, max_width=2650)\n",
    "    icon = folium.Icon(color='green', icon='stats')\n",
    "    marker = folium.Marker(location=[lat, lon],\n",
    "                           popup=popup,\n",
    "                           icon=icon)\n",
    "    return marker"
   ]
  },
  {
   "cell_type": "code",
   "execution_count": 25,
   "metadata": {},
   "outputs": [
    {
     "data": {
      "text/html": [
       "<div style=\"width:100%;\"><div style=\"position:relative;width:100%;height:0;padding-bottom:60%;\"><iframe src=\"data:text/html;charset=utf-8;base64,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\" style=\"position:absolute;width:100%;height:100%;left:0;top:0;border:none !important;\" allowfullscreen webkitallowfullscreen mozallowfullscreen></iframe></div></div>"
      ],
      "text/plain": [
       "<folium.folium.Map at 0x7f44a1221d30>"
      ]
     },
     "execution_count": 25,
     "metadata": {},
     "output_type": "execute_result"
    }
   ],
   "source": [
    "dfs = load_ncs(config)\n",
    "\n",
    "for station in dfs:\n",
    "    sta_name = all_obs[station]\n",
    "    df = dfs[station]\n",
    "    if df.empty:\n",
    "        continue\n",
    "    p = make_plot(df, station)\n",
    "    marker = make_marker(p, station)\n",
    "    marker.add_to(m)\n",
    "\n",
    "folium.LayerControl().add_to(m)\n",
    "\n",
    "m"
   ]
  },
  {
   "cell_type": "markdown",
   "metadata": {},
   "source": [
    "Now we can navigate the map and click on the markers to explorer our findings.\n",
    "\n",
    "The green markers locate the observations locations. They pop-up an interactive plot with the time-series and scores for the models (hover over the lines to se the scores). The blue markers indicate the nearest model grid point found for the comparison."
   ]
  }
 ],
 "metadata": {
  "_draft": {
   "nbviewer_url": "https://gist.github.com/80d9e3244c1fb3f25136a42168ce2a6c"
  },
  "anaconda-cloud": {},
  "gist": {
   "data": {
    "description": "2016-12-22-boston_light_swim.ipynb",
    "public": true
   },
   "id": "80d9e3244c1fb3f25136a42168ce2a6c"
  },
  "kernelspec": {
   "display_name": "Python 3",
   "language": "python",
   "name": "python3"
  },
  "language_info": {
   "codemirror_mode": {
    "name": "ipython",
    "version": 3
   },
   "file_extension": ".py",
   "mimetype": "text/x-python",
   "name": "python",
   "nbconvert_exporter": "python",
   "pygments_lexer": "ipython3",
   "version": "3.7.3"
  }
 },
 "nbformat": 4,
 "nbformat_minor": 2
}
